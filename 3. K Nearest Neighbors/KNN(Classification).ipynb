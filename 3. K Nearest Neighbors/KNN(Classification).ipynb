{
 "cells": [
  {
   "cell_type": "code",
   "execution_count": 34,
   "metadata": {},
   "outputs": [
    {
     "name": "stdout",
     "output_type": "stream",
     "text": [
      "(1599, 12)\n",
      "accuracy:0.54375\n"
     ]
    }
   ],
   "source": [
    "import pandas as pd\n",
    "import numpy as np\n",
    "import matplotlib.pyplot as plt\n",
    "from sklearn.model_selection import train_test_split\n",
    "from sklearn.neighbors import KNeighborsClassifier\n",
    "from sklearn.metrics import accuracy_score\n",
    "#importing data\n",
    "data= pd.read_csv(\"winequality-red.csv\")\n",
    "print(data.shape)\n",
    "X = data.drop(\"quality\",axis=1)\n",
    "y= data['quality']\n",
    "%matplotlib inline\n",
    "#splitting data\n",
    "X_train,X_test,y_train,y_test=train_test_split(X,y,random_state=0,test_size=0.3)\n",
    "# creating the model\n",
    "model = KNeighborsClassifier(n_neighbors=33)\n",
    "model.fit(X_train,y_train)\n",
    "y_pred= model.predict(X_test)\n",
    "#evaluation\n",
    "print(\"accuracy:\"+str(accuracy_score(y_pred,y_test)))"
   ]
  },
  {
   "cell_type": "code",
   "execution_count": null,
   "metadata": {},
   "outputs": [],
   "source": []
  }
 ],
 "metadata": {
  "kernelspec": {
   "display_name": "Python 3",
   "language": "python",
   "name": "python3"
  },
  "language_info": {
   "codemirror_mode": {
    "name": "ipython",
    "version": 3
   },
   "file_extension": ".py",
   "mimetype": "text/x-python",
   "name": "python",
   "nbconvert_exporter": "python",
   "pygments_lexer": "ipython3",
   "version": "3.7.4"
  }
 },
 "nbformat": 4,
 "nbformat_minor": 2
}
