{
 "cells": [
  {
   "cell_type": "code",
   "execution_count": 69,
   "metadata": {},
   "outputs": [
    {
     "data": {
      "image/png": "[encoded data removed]",
      "text/plain": [
       "<Figure size 432x288 with 1 Axes>"
      ]
     },
     "metadata": {
      "needs_background": "light"
     },
     "output_type": "display_data"
    },
    {
     "name": "stdout",
     "output_type": "stream",
     "text": [
      "Mean Squared Error:0.007826045775649491\n",
      "R2score:0.5452688774373158\n"
     ]
    }
   ],
   "source": [
    "import pandas as pd \n",
    "import numpy as np\n",
    "import matplotlib.pyplot as plt\n",
    "from sklearn.model_selection import train_test_split\n",
    "from sklearn.linear_model import LinearRegression\n",
    "%matplotlib inline\n",
    "#importing data\n",
    "df= pd.read_csv(\"Admission_Predict.csv\")\n",
    "#selecting the feature and output variable \n",
    "X = df['GRE Score'].values.reshape(-1,1)\n",
    "y = df['Chance of Admit '].values.reshape(-1,1)\n",
    "#splitting the data\n",
    "X_train,X_test,y_train,y_test= train_test_split(X,y,random_state=0,test_size=0.3)\n",
    "#creating and fitting the model\n",
    "model = LinearRegression()\n",
    "model.fit(X_train,y_train)\n",
    "ans= model.predict(X_test)\n",
    "#visualizing our model\n",
    "plt.scatter(X_test, y_test,  color='blue')\n",
    "plt.plot(X_test, ans, color='red', linewidth=2)\n",
    "plt.show()\n",
    "#Evaluating the model\n",
    "from sklearn.metrics import mean_squared_error\n",
    "from sklearn.metrics import r2_score\n",
    "print(\"Mean Squared Error:\"+str(mean_squared_error(y_test,ans)))\n",
    "print(\"R2score:\"+str(r2_score(y_test,ans)))"
   ]
  },
  {
   "cell_type": "code",
   "execution_count": 60,
   "metadata": {},
   "outputs": [
    {
     "data": {
      "text/html": [
       "<div>\n",
       "<style scoped>\n",
       "    .dataframe tbody tr th:only-of-type {\n",
       "        vertical-align: middle;\n",
       "    }\n",
       "\n",
       "    .dataframe tbody tr th {\n",
       "        vertical-align: top;\n",
       "    }\n",
       "\n",
       "    .dataframe thead th {\n",
       "        text-align: right;\n",
       "    }\n",
       "</style>\n",
       "<table border=\"1\" class=\"dataframe\">\n",
       "  <thead>\n",
       "    <tr style=\"text-align: right;\">\n",
       "      <th></th>\n",
       "      <th>Actual</th>\n",
       "      <th>Predicted</th>\n",
       "    </tr>\n",
       "  </thead>\n",
       "  <tbody>\n",
       "    <tr>\n",
       "      <td>0</td>\n",
       "      <td>0.71</td>\n",
       "      <td>0.648961</td>\n",
       "    </tr>\n",
       "    <tr>\n",
       "      <td>1</td>\n",
       "      <td>0.70</td>\n",
       "      <td>0.638829</td>\n",
       "    </tr>\n",
       "    <tr>\n",
       "      <td>2</td>\n",
       "      <td>0.79</td>\n",
       "      <td>0.821207</td>\n",
       "    </tr>\n",
       "    <tr>\n",
       "      <td>3</td>\n",
       "      <td>0.73</td>\n",
       "      <td>0.618565</td>\n",
       "    </tr>\n",
       "    <tr>\n",
       "      <td>4</td>\n",
       "      <td>0.72</td>\n",
       "      <td>0.719886</td>\n",
       "    </tr>\n",
       "    <tr>\n",
       "      <td>...</td>\n",
       "      <td>...</td>\n",
       "      <td>...</td>\n",
       "    </tr>\n",
       "    <tr>\n",
       "      <td>115</td>\n",
       "      <td>0.91</td>\n",
       "      <td>0.780679</td>\n",
       "    </tr>\n",
       "    <tr>\n",
       "      <td>116</td>\n",
       "      <td>0.90</td>\n",
       "      <td>0.871868</td>\n",
       "    </tr>\n",
       "    <tr>\n",
       "      <td>117</td>\n",
       "      <td>0.78</td>\n",
       "      <td>0.831339</td>\n",
       "    </tr>\n",
       "    <tr>\n",
       "      <td>118</td>\n",
       "      <td>0.70</td>\n",
       "      <td>0.659093</td>\n",
       "    </tr>\n",
       "    <tr>\n",
       "      <td>119</td>\n",
       "      <td>0.59</td>\n",
       "      <td>0.608433</td>\n",
       "    </tr>\n",
       "  </tbody>\n",
       "</table>\n",
       "<p>120 rows × 2 columns</p>\n",
       "</div>"
      ],
      "text/plain": [
       "     Actual  Predicted\n",
       "0      0.71   0.648961\n",
       "1      0.70   0.638829\n",
       "2      0.79   0.821207\n",
       "3      0.73   0.618565\n",
       "4      0.72   0.719886\n",
       "..      ...        ...\n",
       "115    0.91   0.780679\n",
       "116    0.90   0.871868\n",
       "117    0.78   0.831339\n",
       "118    0.70   0.659093\n",
       "119    0.59   0.608433\n",
       "\n",
       "[120 rows x 2 columns]"
      ]
     },
     "execution_count": 60,
     "metadata": {},
     "output_type": "execute_result"
    }
   ],
   "source": [
    "#comparing the predictions\n",
    "df = pd.DataFrame({'Actual': y_test.flatten(), 'Predicted': ans.flatten()})\n",
    "df"
   ]
  },
  {
   "cell_type": "code",
   "execution_count": null,
   "metadata": {},
   "outputs": [],
   "source": []
  },
  {
   "cell_type": "code",
   "execution_count": null,
   "metadata": {},
   "outputs": [],
   "source": []
  }
 ],
 "metadata": {
  "kernelspec": {
   "display_name": "Python 3",
   "language": "python",
   "name": "python3"
  },
  "language_info": {
   "codemirror_mode": {
    "name": "ipython",
    "version": 3
   },
   "file_extension": ".py",
   "mimetype": "text/x-python",
   "name": "python",
   "nbconvert_exporter": "python",
   "pygments_lexer": "ipython3",
   "version": "3.7.4"
  }
 },
 "nbformat": 4,
 "nbformat_minor": 2
}
